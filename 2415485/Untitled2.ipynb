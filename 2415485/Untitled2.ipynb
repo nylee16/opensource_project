{
  "nbformat": 4,
  "nbformat_minor": 0,
  "metadata": {
    "colab": {
      "provenance": [],
      "gpuType": "T4",
      "authorship_tag": "ABX9TyPRa1P9Abx8wlkO43pYXWM/",
      "include_colab_link": true
    },
    "kernelspec": {
      "name": "python3",
      "display_name": "Python 3"
    },
    "language_info": {
      "name": "python"
    },
    "accelerator": "GPU"
  },
  "cells": [
    {
      "cell_type": "markdown",
      "metadata": {
        "id": "view-in-github",
        "colab_type": "text"
      },
      "source": [
        "<a href=\"https://colab.research.google.com/github/nylee16/opensource_project/blob/main/2415485/Untitled2.ipynb\" target=\"_parent\"><img src=\"https://colab.research.google.com/assets/colab-badge.svg\" alt=\"Open In Colab\"/></a>"
      ]
    },
    {
      "cell_type": "code",
      "source": [
        "from google.colab import drive\n",
        "drive.mount('/content/drive')\n"
      ],
      "metadata": {
        "colab": {
          "base_uri": "https://localhost:8080/"
        },
        "id": "N33YpqBP_55W",
        "outputId": "d8e76157-c21e-4303-b879-4e2143b9db70"
      },
      "execution_count": 2,
      "outputs": [
        {
          "output_type": "stream",
          "name": "stdout",
          "text": [
            "Mounted at /content/drive\n"
          ]
        }
      ]
    },
    {
      "cell_type": "code",
      "execution_count": 5,
      "metadata": {
        "colab": {
          "base_uri": "https://localhost:8080/"
        },
        "id": "g3MYS4Bm5HOH",
        "outputId": "2e05abe2-e77b-4eee-d417-856819b07c4b"
      },
      "outputs": [
        {
          "output_type": "stream",
          "name": "stderr",
          "text": [
            "처리 중: 100%|██████████| 1500/1500 [11:41<00:00,  2.14it/s]"
          ]
        },
        {
          "output_type": "stream",
          "name": "stdout",
          "text": [
            "✅ CSV 저장 완료: /content/drive/MyDrive/labels.csv | 총 1500개 샘플\n"
          ]
        },
        {
          "output_type": "stream",
          "name": "stderr",
          "text": [
            "\n"
          ]
        }
      ],
      "source": [
        "import os\n",
        "import json\n",
        "import pandas as pd\n",
        "from glob import glob\n",
        "from tqdm import tqdm\n",
        "\n",
        "# 경로 설정\n",
        "wav_dir = \"/content/drive/MyDrive/wav_16k\"\n",
        "json_dir = \"/content/drive/MyDrive/merged_json\"\n",
        "txt_dir = \"/content/drive/MyDrive/merged_txt\"\n",
        "output_csv = \"/content/drive/MyDrive/labels.csv\"\n",
        "\n",
        "data = []\n",
        "json_files = glob(os.path.join(json_dir, \"*.json\"))\n",
        "\n",
        "for json_path in tqdm(json_files, desc=\"처리 중\"):\n",
        "    try:\n",
        "        with open(json_path, \"r\", encoding=\"utf-8\") as f:\n",
        "            content = json.load(f)\n",
        "\n",
        "        wav_name = content[\"original\"]\n",
        "        base_name = os.path.splitext(wav_name)[0]\n",
        "\n",
        "        wav_path = os.path.join(wav_dir, wav_name)\n",
        "        txt_path = os.path.join(txt_dir, base_name + \".txt\")\n",
        "\n",
        "        if not os.path.exists(wav_path):\n",
        "            print(f\"⚠️ Wav 없음: {wav_path}\")\n",
        "            continue\n",
        "        if not os.path.exists(txt_path):\n",
        "            print(f\"⚠️ Txt 없음: {txt_path}\")\n",
        "            continue\n",
        "\n",
        "        try:\n",
        "            with open(txt_path, \"r\", encoding=\"utf-8\") as t:\n",
        "                transcript = t.read().strip()\n",
        "        except UnicodeDecodeError:\n",
        "            # 인코딩 문제 있을 경우 재시도\n",
        "            try:\n",
        "                with open(txt_path, \"r\", encoding=\"utf-16\") as t:\n",
        "                    transcript = t.read().strip()\n",
        "            except Exception as e:\n",
        "                print(f\"❌ 텍스트 파일 읽기 실패: {txt_path} → {e}\")\n",
        "                continue\n",
        "\n",
        "        data.append({\"file_path\": wav_path, \"transcript\": transcript})\n",
        "\n",
        "    except Exception as e:\n",
        "        print(f\"❌ 오류 발생 in {json_path}: {e}\")\n",
        "\n",
        "# 저장\n",
        "df = pd.DataFrame(data)\n",
        "df.to_csv(output_csv, index=False, encoding=\"utf-8-sig\")\n",
        "print(f\"✅ CSV 저장 완료: {output_csv} | 총 {len(df)}개 샘플\")\n"
      ]
    }
  ]
}